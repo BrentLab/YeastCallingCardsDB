{
 "cells": [
  {
   "cell_type": "code",
   "execution_count": 1,
   "id": "addba40d-f939-47bf-8413-7f83e9f54ada",
   "metadata": {
    "tags": []
   },
   "outputs": [],
   "source": [
    "# Shell Plus Model Imports\n",
    "from callingcards.callingcards.models.Background import Background\n",
    "from callingcards.callingcards.models.CCExperiment import CCExperiment\n",
    "from callingcards.callingcards.models.CCTF import CCTF\n",
    "from callingcards.callingcards.models.ChrMap import ChrMap\n",
    "from callingcards.callingcards.models.Gene import Gene\n",
    "from callingcards.callingcards.models.HarbisonChIP import HarbisonChIP\n",
    "from callingcards.callingcards.models.Hops import Hops\n",
    "from callingcards.callingcards.models.HopsReplicateSig import HopsReplicateSig\n",
    "from callingcards.callingcards.models.KemmerenTFKO import KemmerenTFKO\n",
    "from callingcards.callingcards.models.McIsaacZEV import McIsaacZEV\n",
    "from callingcards.callingcards.models.PromoterRegions import PromoterRegions\n",
    "from callingcards.callingcards.models.QcManualReview import QcManualReview\n",
    "from callingcards.callingcards.models.QcMetrics import QcMetrics\n",
    "from callingcards.callingcards.models.QcR1ToR2Tf import QcR1ToR2Tf\n",
    "from callingcards.callingcards.models.QcR2ToR1Tf import QcR2ToR1Tf\n",
    "from callingcards.callingcards.models.QcTfToTransposon import QcTfToTransposon\n",
    "from callingcards.users.models import User\n",
    "from django.contrib.admin.models import LogEntry\n",
    "from django.contrib.auth.models import Group, Permission\n",
    "from django.contrib.contenttypes.models import ContentType\n",
    "from django.contrib.sessions.models import Session\n",
    "from rest_framework.authtoken.models import Token, TokenProxy\n",
    "# Shell Plus Django Imports\n",
    "from django.db import models\n",
    "from django.core.cache import cache\n",
    "from django.conf import settings\n",
    "from django.contrib.auth import get_user_model\n",
    "from django.db import transaction\n",
    "from django.db.models import Avg, Case, Count, F, Max, Min, Prefetch, Q, Sum, When\n",
    "from django.utils import timezone\n",
    "from django.urls import reverse\n",
    "from django.db.models import Exists, OuterRef, Subquery\n",
    "from django.db import models\n",
    "# setup django to work in the notebook\n",
    "import os\n",
    "import django\n",
    "os.environ[\"DJANGO_ALLOW_ASYNC_UNSAFE\"] = \"true\"\n",
    "django.setup()"
   ]
  },
  {
   "cell_type": "code",
   "execution_count": 2,
   "id": "0b86f2c2-6044-4f77-adb4-7c7727c36c1d",
   "metadata": {
    "tags": []
   },
   "outputs": [],
   "source": [
    "def get_promoter_ids():\n",
    "    result = HarbisonChIP.objects.all().select_related(\n",
    "                'tf',\n",
    "                'gene',\n",
    "                'gene__genepromoter'\n",
    "            )\\\n",
    "            .annotate(\n",
    "                tf_locus_tag=models.F('tf__locus_tag'),\n",
    "                tf_gene=models.F('tf__gene'),\n",
    "                target_locus_tag=models.F('gene__locus_tag'),\n",
    "                target_gene=models.F('gene__gene'),\n",
    "                target_gene_id=models.F('gene_id'),\n",
    "                binding_signal=models.F('pval'),\n",
    "                promoter_id=models.F('gene__genepromoter__id'),\n",
    "                experiment=models.Value('harbison'))\\\n",
    "            .values('tf_id', 'tf_locus_tag', 'tf_gene',\n",
    "                    'target_gene_id', 'target_locus_tag', 'target_gene', \n",
    "                    'binding_signal', 'experiment', 'promoter_id')[:5]\n",
    "    \n",
    "    return result\n",
    "\n",
    "results = get_promoter_ids()\n",
    "    "
   ]
  },
  {
   "cell_type": "code",
   "execution_count": 3,
   "id": "10e0d8a2-3f34-45c2-a6b1-de20ce6d182a",
   "metadata": {
    "tags": []
   },
   "outputs": [
    {
     "name": "stdout",
     "output_type": "stream",
     "text": [
      "{'tf_id': 962, 'tf_locus_tag': 'YDL106C', 'tf_gene': 'PHO2', 'target_locus_tag': 'YAL001C', 'target_gene': 'TFC3', 'target_gene_id': 87, 'binding_signal': Decimal('0.6210000000000000000000000000'), 'promoter_id': 110, 'experiment': 'harbison'}\n",
      "{'tf_id': 962, 'tf_locus_tag': 'YDL106C', 'tf_gene': 'PHO2', 'target_locus_tag': 'YAL001C', 'target_gene': 'TFC3', 'target_gene_id': 87, 'binding_signal': Decimal('0.6210000000000000000000000000'), 'promoter_id': 111, 'experiment': 'harbison'}\n",
      "{'tf_id': 962, 'tf_locus_tag': 'YDL106C', 'tf_gene': 'PHO2', 'target_locus_tag': 'YAL001C', 'target_gene': 'TFC3', 'target_gene_id': 87, 'binding_signal': Decimal('0.6210000000000000000000000000'), 'promoter_id': 9574, 'experiment': 'harbison'}\n",
      "{'tf_id': 962, 'tf_locus_tag': 'YDL106C', 'tf_gene': 'PHO2', 'target_locus_tag': 'YAL002W', 'target_gene': 'VPS8', 'target_gene_id': 86, 'binding_signal': Decimal('0.1022000000000000000000000000'), 'promoter_id': 108, 'experiment': 'harbison'}\n",
      "{'tf_id': 962, 'tf_locus_tag': 'YDL106C', 'tf_gene': 'PHO2', 'target_locus_tag': 'YAL002W', 'target_gene': 'VPS8', 'target_gene_id': 86, 'binding_signal': Decimal('0.1022000000000000000000000000'), 'promoter_id': 109, 'experiment': 'harbison'}\n"
     ]
    }
   ],
   "source": [
    "for record in results:\n",
    "    print(record)"
   ]
  },
  {
   "cell_type": "code",
   "execution_count": 2,
   "id": "42346c3c-bac9-4ca1-b523-6319bcff1ef6",
   "metadata": {},
   "outputs": [],
   "source": [
    "from callingcards.callingcards.filters import PromoterRegionsFilter\n",
    "import pandas as pd\n",
    "\n",
    "def callingcards_with_metrics(query_params_dict):\n",
    "\n",
    "    filtered_promoters = PromoterRegionsFilter(\n",
    "        query_params_dict,\n",
    "        queryset=PromoterRegions.objects.all())\n",
    "\n",
    "\n",
    "    promoter_res = filtered_promoters.qs\\\n",
    "        .annotate(promoter_id=F('id'),\n",
    "                  promoter_source=F('source'))\n",
    "    promoter_df = pd.DataFrame.from_records(promoter_res.values())\n",
    "    promoter_df = promoter_df[['promoter_id', 'promoter_source']]\n",
    "    \n",
    "    experiment_res = filtered_promoters.qs\\\n",
    "        .calling_cards_experiment(**query_params_dict)\n",
    "    experiment_df = pd.DataFrame.from_records(experiment_res)\n",
    "    experiment_df = experiment_df[['promoter_id', 'promoter_source',\n",
    "                                   'experiment_hops', 'experiment_id']]\n",
    "    \n",
    "    return experiment_df\n"
   ]
  },
  {
   "cell_type": "code",
   "execution_count": 3,
   "id": "ee8bf735-52f1-46ef-9172-aabef51c8130",
   "metadata": {
    "tags": []
   },
   "outputs": [],
   "source": [
    "query_params_dict = {'promoter_source':'yiming', 'experiment_id':'75'}\n",
    "\n",
    "filtered_promoters = PromoterRegionsFilter(\n",
    "        query_params_dict,\n",
    "        queryset=PromoterRegions.objects.all())\n",
    "\n",
    "\n",
    "#callingcards_with_metrics(query_params_dict)"
   ]
  },
  {
   "cell_type": "code",
   "execution_count": 4,
   "id": "98abadfa-9443-4f1f-85bc-3efca73bfde8",
   "metadata": {
    "tags": []
   },
   "outputs": [],
   "source": [
    "experiment_res = filtered_promoters.qs\\\n",
    "        .calling_cards_experiment(background_source='adh1', \n",
    "                                  experiment_id='75')\n",
    "# experiment_df = pd.DataFrame.from_records(experiment_res)\n",
    "# experiment_df = experiment_df[['promoter_id', 'promoter_source',\n",
    "#                                    'experiment_hops', 'experiment_id']]"
   ]
  },
  {
   "cell_type": "code",
   "execution_count": 5,
   "id": "301d45c6-2871-4b3f-b9ba-61169101fed5",
   "metadata": {
    "tags": []
   },
   "outputs": [
    {
     "name": "stdout",
     "output_type": "stream",
     "text": [
      "SELECT \"promoter_regions\".\"id\" AS \"promoter_id\", COUNT(T5.\"id\") AS \"experiment_hops\", T5.\"experiment_id\" AS \"experiment_id\", \"promoter_regions\".\"source\" AS \"promoter_source\" FROM \"promoter_regions\" INNER JOIN \"chr_map\" ON (\"promoter_regions\".\"chr_id\" = \"chr_map\".\"id\") INNER JOIN \"hops\" ON (\"chr_map\".\"id\" = \"hops\".\"chr_id\") INNER JOIN \"hops\" T5 ON (\"chr_map\".\"id\" = T5.\"chr_id\") WHERE (\"promoter_regions\".\"source\" = yiming AND \"hops\".\"chr_id\" = (\"promoter_regions\".\"chr_id\") AND \"hops\".\"start\" >= (\"promoter_regions\".\"start\") AND \"hops\".\"start\" <= (\"promoter_regions\".\"end\") AND T5.\"experiment_id\" = 75) GROUP BY \"promoter_regions\".\"id\", T5.\"experiment_id\", \"promoter_regions\".\"source\"\n"
     ]
    }
   ],
   "source": [
    "print(experiment_res.query)"
   ]
  },
  {
   "cell_type": "code",
   "execution_count": 15,
   "id": "8c585222-03a2-491f-9398-08ef255b5c7f",
   "metadata": {
    "tags": []
   },
   "outputs": [],
   "source": [
    "from django.db.models import Count, F, Q"
   ]
  },
  {
   "cell_type": "code",
   "execution_count": 16,
   "id": "21b734b4-16f7-4877-b3ab-51452a7788d8",
   "metadata": {
    "tags": []
   },
   "outputs": [
    {
     "name": "stdout",
     "output_type": "stream",
     "text": [
      "SELECT \"promoter_regions\".\"id\" AS \"promoter_id\", \"promoter_regions\".\"source\" AS \"promoter_source\" FROM \"promoter_regions\"\n"
     ]
    }
   ],
   "source": [
    "print(experiment_hops.query)"
   ]
  },
  {
   "cell_type": "code",
   "execution_count": null,
   "id": "9263e64b-6355-43ca-aa7f-b2658270ac8a",
   "metadata": {
    "tags": []
   },
   "outputs": [],
   "source": [
    "experiment_df = pd.DataFrame.from_records(experiment_res.values())"
   ]
  },
  {
   "cell_type": "code",
   "execution_count": 2,
   "id": "f03072f1-b510-45e3-8189-732cadd5d290",
   "metadata": {
    "tags": []
   },
   "outputs": [],
   "source": [
    "from callingcards.callingcards.utils.callingcards_with_metrics import callingcards_with_metrics"
   ]
  },
  {
   "cell_type": "code",
   "execution_count": 3,
   "id": "dc19c880-f6ae-45ff-b9f9-2591f3374ad4",
   "metadata": {
    "tags": []
   },
   "outputs": [],
   "source": [
    "res_df = callingcards_with_metrics({'promoter_source':'yiming', 'background_source':'adh1', 'experiment_id':'75'})"
   ]
  },
  {
   "cell_type": "code",
   "execution_count": 21,
   "id": "cab6ef2d-59af-4e0c-8dda-31c720732c5c",
   "metadata": {},
   "outputs": [
    {
     "name": "stdout",
     "output_type": "stream",
     "text": [
      "9.649736404418945\n"
     ]
    }
   ],
   "source": [
    "from django.db.models import OuterRef, Subquery, Count, F, Q\n",
    "import time\n",
    "\n",
    "# Replace this with your pre-filtered Hops queryset\n",
    "hops_queryset = Hops.objects.filter(experiment_id=75)\n",
    "\n",
    "# Replace this with your desired PromoterRegions queryset\n",
    "promoter_regions_queryset = PromoterRegions.objects.filter(source='yiming')\n",
    "\n",
    "consider_strand = False  # Set this to True if you want to consider the strand\n",
    "\n",
    "results = []\n",
    "start_time = time.time()\n",
    "for promoter_region in promoter_regions_queryset:\n",
    "    # Create a base queryset for the Hops that match the chr, start, and end of the current promoter region\n",
    "    matching_hops = hops_queryset.filter(\n",
    "        chr_id=promoter_region.chr_id,\n",
    "        start__gte=promoter_region.start,\n",
    "        start__lte=promoter_region.end,\n",
    "    )\n",
    "\n",
    "    # If consider_strand is True, filter the matching Hops further by the strand\n",
    "    if consider_strand:\n",
    "        matching_hops = matching_hops.filter(strand=promoter_region.strand)\n",
    "\n",
    "    # Count the number of matching Hops\n",
    "    hops_count = matching_hops.count()\n",
    "\n",
    "    # Append the result to the results list\n",
    "    results.append(\n",
    "        {\n",
    "            'promoter_id': promoter_region.id,\n",
    "            'experiment_hops': hops_count,\n",
    "            'experiment_id': 75,  # Replace this with the actual experiment ID if it's not always 75\n",
    "            'promoter_source': promoter_region.source,\n",
    "        }\n",
    "    )\n",
    "\n",
    "print(time.time()-start_time)\n"
   ]
  },
  {
   "cell_type": "code",
   "execution_count": 7,
   "id": "77eec05a-19b2-49bb-812d-5595fe4ebb22",
   "metadata": {
    "tags": []
   },
   "outputs": [
    {
     "data": {
      "text/html": [
       "<div>\n",
       "<style scoped>\n",
       "    .dataframe tbody tr th:only-of-type {\n",
       "        vertical-align: middle;\n",
       "    }\n",
       "\n",
       "    .dataframe tbody tr th {\n",
       "        vertical-align: top;\n",
       "    }\n",
       "\n",
       "    .dataframe thead th {\n",
       "        text-align: right;\n",
       "    }\n",
       "</style>\n",
       "<table border=\"1\" class=\"dataframe\">\n",
       "  <thead>\n",
       "    <tr style=\"text-align: right;\">\n",
       "      <th></th>\n",
       "      <th>promoter_id</th>\n",
       "      <th>experiment_id</th>\n",
       "      <th>background_source</th>\n",
       "      <th>promoter_source</th>\n",
       "      <th>background_hops</th>\n",
       "      <th>background_total_hops</th>\n",
       "      <th>experiment_hops</th>\n",
       "      <th>experiment_total_hops</th>\n",
       "      <th>callingcards_enrichment</th>\n",
       "      <th>poisson_pval</th>\n",
       "      <th>hypergeometric_pval</th>\n",
       "    </tr>\n",
       "  </thead>\n",
       "  <tbody>\n",
       "    <tr>\n",
       "      <th>0</th>\n",
       "      <td>9491</td>\n",
       "      <td>75</td>\n",
       "      <td>adh1</td>\n",
       "      <td>yiming</td>\n",
       "      <td>2</td>\n",
       "      <td>103922</td>\n",
       "      <td>0</td>\n",
       "      <td>8605</td>\n",
       "      <td>0.0</td>\n",
       "      <td>0.306223</td>\n",
       "      <td>0.147094</td>\n",
       "    </tr>\n",
       "    <tr>\n",
       "      <th>1</th>\n",
       "      <td>9492</td>\n",
       "      <td>75</td>\n",
       "      <td>adh1</td>\n",
       "      <td>yiming</td>\n",
       "      <td>4</td>\n",
       "      <td>103922</td>\n",
       "      <td>0</td>\n",
       "      <td>8605</td>\n",
       "      <td>0.0</td>\n",
       "      <td>0.412106</td>\n",
       "      <td>0.272553</td>\n",
       "    </tr>\n",
       "    <tr>\n",
       "      <th>2</th>\n",
       "      <td>9493</td>\n",
       "      <td>75</td>\n",
       "      <td>adh1</td>\n",
       "      <td>yiming</td>\n",
       "      <td>1</td>\n",
       "      <td>103922</td>\n",
       "      <td>0</td>\n",
       "      <td>8605</td>\n",
       "      <td>0.0</td>\n",
       "      <td>0.246331</td>\n",
       "      <td>0.076471</td>\n",
       "    </tr>\n",
       "    <tr>\n",
       "      <th>3</th>\n",
       "      <td>9494</td>\n",
       "      <td>75</td>\n",
       "      <td>adh1</td>\n",
       "      <td>yiming</td>\n",
       "      <td>1</td>\n",
       "      <td>103922</td>\n",
       "      <td>0</td>\n",
       "      <td>8605</td>\n",
       "      <td>0.0</td>\n",
       "      <td>0.246331</td>\n",
       "      <td>0.076471</td>\n",
       "    </tr>\n",
       "    <tr>\n",
       "      <th>4</th>\n",
       "      <td>9495</td>\n",
       "      <td>75</td>\n",
       "      <td>adh1</td>\n",
       "      <td>yiming</td>\n",
       "      <td>11</td>\n",
       "      <td>103922</td>\n",
       "      <td>0</td>\n",
       "      <td>8605</td>\n",
       "      <td>0.0</td>\n",
       "      <td>0.670713</td>\n",
       "      <td>0.583188</td>\n",
       "    </tr>\n",
       "    <tr>\n",
       "      <th>...</th>\n",
       "      <td>...</td>\n",
       "      <td>...</td>\n",
       "      <td>...</td>\n",
       "      <td>...</td>\n",
       "      <td>...</td>\n",
       "      <td>...</td>\n",
       "      <td>...</td>\n",
       "      <td>...</td>\n",
       "      <td>...</td>\n",
       "      <td>...</td>\n",
       "      <td>...</td>\n",
       "    </tr>\n",
       "    <tr>\n",
       "      <th>6704</th>\n",
       "      <td>16195</td>\n",
       "      <td>75</td>\n",
       "      <td>adh1</td>\n",
       "      <td>yiming</td>\n",
       "      <td>0</td>\n",
       "      <td>103922</td>\n",
       "      <td>0</td>\n",
       "      <td>8605</td>\n",
       "      <td>0.0</td>\n",
       "      <td>0.181269</td>\n",
       "      <td>1.000000</td>\n",
       "    </tr>\n",
       "    <tr>\n",
       "      <th>6705</th>\n",
       "      <td>16196</td>\n",
       "      <td>75</td>\n",
       "      <td>adh1</td>\n",
       "      <td>yiming</td>\n",
       "      <td>0</td>\n",
       "      <td>103922</td>\n",
       "      <td>0</td>\n",
       "      <td>8605</td>\n",
       "      <td>0.0</td>\n",
       "      <td>0.181269</td>\n",
       "      <td>1.000000</td>\n",
       "    </tr>\n",
       "    <tr>\n",
       "      <th>6706</th>\n",
       "      <td>16197</td>\n",
       "      <td>75</td>\n",
       "      <td>adh1</td>\n",
       "      <td>yiming</td>\n",
       "      <td>0</td>\n",
       "      <td>103922</td>\n",
       "      <td>0</td>\n",
       "      <td>8605</td>\n",
       "      <td>0.0</td>\n",
       "      <td>0.181269</td>\n",
       "      <td>1.000000</td>\n",
       "    </tr>\n",
       "    <tr>\n",
       "      <th>6707</th>\n",
       "      <td>16198</td>\n",
       "      <td>75</td>\n",
       "      <td>adh1</td>\n",
       "      <td>yiming</td>\n",
       "      <td>0</td>\n",
       "      <td>103922</td>\n",
       "      <td>0</td>\n",
       "      <td>8605</td>\n",
       "      <td>0.0</td>\n",
       "      <td>0.181269</td>\n",
       "      <td>1.000000</td>\n",
       "    </tr>\n",
       "    <tr>\n",
       "      <th>6708</th>\n",
       "      <td>16199</td>\n",
       "      <td>75</td>\n",
       "      <td>adh1</td>\n",
       "      <td>yiming</td>\n",
       "      <td>0</td>\n",
       "      <td>103922</td>\n",
       "      <td>0</td>\n",
       "      <td>8605</td>\n",
       "      <td>0.0</td>\n",
       "      <td>0.181269</td>\n",
       "      <td>1.000000</td>\n",
       "    </tr>\n",
       "  </tbody>\n",
       "</table>\n",
       "<p>6709 rows × 11 columns</p>\n",
       "</div>"
      ],
      "text/plain": [
       "      promoter_id  experiment_id background_source promoter_source   \n",
       "0            9491             75              adh1          yiming  \\\n",
       "1            9492             75              adh1          yiming   \n",
       "2            9493             75              adh1          yiming   \n",
       "3            9494             75              adh1          yiming   \n",
       "4            9495             75              adh1          yiming   \n",
       "...           ...            ...               ...             ...   \n",
       "6704        16195             75              adh1          yiming   \n",
       "6705        16196             75              adh1          yiming   \n",
       "6706        16197             75              adh1          yiming   \n",
       "6707        16198             75              adh1          yiming   \n",
       "6708        16199             75              adh1          yiming   \n",
       "\n",
       "      background_hops  background_total_hops  experiment_hops   \n",
       "0                   2                 103922                0  \\\n",
       "1                   4                 103922                0   \n",
       "2                   1                 103922                0   \n",
       "3                   1                 103922                0   \n",
       "4                  11                 103922                0   \n",
       "...               ...                    ...              ...   \n",
       "6704                0                 103922                0   \n",
       "6705                0                 103922                0   \n",
       "6706                0                 103922                0   \n",
       "6707                0                 103922                0   \n",
       "6708                0                 103922                0   \n",
       "\n",
       "      experiment_total_hops  callingcards_enrichment  poisson_pval   \n",
       "0                      8605                      0.0      0.306223  \\\n",
       "1                      8605                      0.0      0.412106   \n",
       "2                      8605                      0.0      0.246331   \n",
       "3                      8605                      0.0      0.246331   \n",
       "4                      8605                      0.0      0.670713   \n",
       "...                     ...                      ...           ...   \n",
       "6704                   8605                      0.0      0.181269   \n",
       "6705                   8605                      0.0      0.181269   \n",
       "6706                   8605                      0.0      0.181269   \n",
       "6707                   8605                      0.0      0.181269   \n",
       "6708                   8605                      0.0      0.181269   \n",
       "\n",
       "      hypergeometric_pval  \n",
       "0                0.147094  \n",
       "1                0.272553  \n",
       "2                0.076471  \n",
       "3                0.076471  \n",
       "4                0.583188  \n",
       "...                   ...  \n",
       "6704             1.000000  \n",
       "6705             1.000000  \n",
       "6706             1.000000  \n",
       "6707             1.000000  \n",
       "6708             1.000000  \n",
       "\n",
       "[6709 rows x 11 columns]"
      ]
     },
     "execution_count": 7,
     "metadata": {},
     "output_type": "execute_result"
    }
   ],
   "source": [
    "res_df"
   ]
  },
  {
   "cell_type": "code",
   "execution_count": 13,
   "id": "fb623265-2f62-436d-abac-c0bcd97ae4bb",
   "metadata": {
    "tags": []
   },
   "outputs": [
    {
     "data": {
      "text/plain": [
       "['chr_ucsc',\n",
       " 'start',\n",
       " 'end',\n",
       " 'strand',\n",
       " 'target_locus_tag',\n",
       " 'target_gene',\n",
       " 'score',\n",
       " 'promoter_source',\n",
       " 'id',\n",
       " 'uploader',\n",
       " 'uploadDate',\n",
       " 'modified',\n",
       " 'modifiedBy',\n",
       " 'chr',\n",
       " 'start',\n",
       " 'end',\n",
       " 'strand',\n",
       " 'depth',\n",
       " 'background_source',\n",
       " 'tf_id',\n",
       " 'tf_locus_tag',\n",
       " 'tf_gene',\n",
       " 'experiment',\n",
       " 'experiment_id',\n",
       " 'consider_background']"
      ]
     },
     "execution_count": 13,
     "metadata": {},
     "output_type": "execute_result"
    }
   ],
   "source": [
    "from callingcards.callingcards.filters import PromoterRegionsFilter,BackgroundFilter,HopsFilter\n",
    "\n",
    "(PromoterRegionsFilter.Meta.fields +\n",
    "                          BackgroundFilter.Meta.fields +\n",
    "                          HopsFilter.Meta.fields +\n",
    "                          ['consider_background'])"
   ]
  },
  {
   "cell_type": "code",
   "execution_count": 35,
   "id": "f04c529a-3e4e-42a7-a1f3-77e63c0714a2",
   "metadata": {
    "tags": []
   },
   "outputs": [
    {
     "ename": "AttributeError",
     "evalue": "'QuerySet' object has no attribute 'experiment'",
     "output_type": "error",
     "traceback": [
      "\u001b[0;31m---------------------------------------------------------------------------\u001b[0m",
      "\u001b[0;31mAttributeError\u001b[0m                            Traceback (most recent call last)",
      "Cell \u001b[0;32mIn[35], line 1\u001b[0m\n\u001b[0;32m----> 1\u001b[0m \u001b[43mHops\u001b[49m\u001b[38;5;241;43m.\u001b[39;49m\u001b[43mobjects\u001b[49m\u001b[38;5;241;43m.\u001b[39;49m\u001b[43mall\u001b[49m\u001b[43m(\u001b[49m\u001b[43m)\u001b[49m\u001b[38;5;241;43m.\u001b[39;49m\u001b[43mexperiment\u001b[49m\u001b[38;5;241m.\u001b[39munique()\n",
      "\u001b[0;31mAttributeError\u001b[0m: 'QuerySet' object has no attribute 'experiment'"
     ]
    }
   ],
   "source": [
    "Hops.objects.all().experiment.unique()"
   ]
  },
  {
   "cell_type": "code",
   "execution_count": 33,
   "id": "2e75d66d-194d-4119-90fb-305b4fd0e78a",
   "metadata": {
    "tags": []
   },
   "outputs": [
    {
     "name": "stdout",
     "output_type": "stream",
     "text": [
      "SELECT \"hops\".\"id\", \"hops\".\"uploader_id\", \"hops\".\"uploadDate\", \"hops\".\"modified\", \"hops\".\"modifiedBy_id\", \"hops\".\"chr_id\", \"hops\".\"start\", \"hops\".\"end\", \"hops\".\"strand\", \"hops\".\"depth\", \"hops\".\"experiment_id\" FROM \"hops\" WHERE \"hops\".\"experiment_id\" = 75\n"
     ]
    }
   ],
   "source": [
    "print(filtered_experiment.qs.query)"
   ]
  },
  {
   "cell_type": "code",
   "execution_count": 36,
   "id": "aa23d655-255e-4929-b3be-13b3bdac1958",
   "metadata": {
    "tags": []
   },
   "outputs": [],
   "source": [
    "unique_experiment_ids = Hops.objects.all().values_list('experiment_id', flat=True).distinct()"
   ]
  },
  {
   "cell_type": "code",
   "execution_count": 37,
   "id": "df382202-5fb6-493b-8dd0-02250acbfa6d",
   "metadata": {
    "tags": []
   },
   "outputs": [
    {
     "data": {
      "text/plain": [
       "<QuerySet [1, 2, 3, 4, 5, 6, 7, 8, 10, 11, 12, 13, 14, 15, 16, 17, 18, 19, 20, 21, '...(remaining elements truncated)...']>"
      ]
     },
     "execution_count": 37,
     "metadata": {},
     "output_type": "execute_result"
    }
   ],
   "source": [
    "leunique_experiment_ids"
   ]
  },
  {
   "cell_type": "code",
   "execution_count": 38,
   "id": "287e0b3b-1af0-42e6-b69c-24d6d4b6faa7",
   "metadata": {
    "tags": []
   },
   "outputs": [
    {
     "data": {
      "text/plain": [
       "100"
      ]
     },
     "execution_count": 38,
     "metadata": {},
     "output_type": "execute_result"
    }
   ],
   "source": [
    "len(unique_experiment_ids)"
   ]
  },
  {
   "cell_type": "code",
   "execution_count": 39,
   "id": "441a9d91-2098-4b0e-b165-43ce6c46bd90",
   "metadata": {
    "tags": []
   },
   "outputs": [],
   "source": [
    "hops_queryset = Hops.objects.all()\n",
    "\n",
    "unique_experiment_counts = (\n",
    "    hops_queryset\n",
    "    .values('experiment_id')  # Group by experiment_id\n",
    "    .annotate(record_count=Count('id'))  # Count the number of records per group\n",
    "    .order_by()  # Remove default ordering, if any\n",
    ")\n",
    "\n",
    "# Convert the result to a dictionary with experiment_id as key and record_count as value\n",
    "experiment_counts_dict = {entry['experiment_id']: entry['record_count'] for entry in unique_experiment_counts}"
   ]
  },
  {
   "cell_type": "code",
   "execution_count": 43,
   "id": "20a578a6-6922-46a1-a2a5-94e1cbdee433",
   "metadata": {
    "tags": []
   },
   "outputs": [
    {
     "ename": "KeyError",
     "evalue": "'3'",
     "output_type": "error",
     "traceback": [
      "\u001b[0;31m---------------------------------------------------------------------------\u001b[0m",
      "\u001b[0;31mKeyError\u001b[0m                                  Traceback (most recent call last)",
      "Cell \u001b[0;32mIn[43], line 1\u001b[0m\n\u001b[0;32m----> 1\u001b[0m \u001b[43mexperiment_counts_dict\u001b[49m\u001b[43m[\u001b[49m\u001b[38;5;124;43m'\u001b[39;49m\u001b[38;5;124;43m3\u001b[39;49m\u001b[38;5;124;43m'\u001b[39;49m\u001b[43m]\u001b[49m\n",
      "\u001b[0;31mKeyError\u001b[0m: '3'"
     ]
    }
   ],
   "source": []
  },
  {
   "cell_type": "code",
   "execution_count": null,
   "id": "bcbe6f1b-b684-4e73-9cd9-5735aeba0cf6",
   "metadata": {},
   "outputs": [],
   "source": []
  }
 ],
 "metadata": {
  "kernelspec": {
   "display_name": "Django Shell-Plus",
   "language": "python",
   "name": "django_extensions"
  },
  "language_info": {
   "codemirror_mode": {
    "name": "ipython",
    "version": 3
   },
   "file_extension": ".py",
   "mimetype": "text/x-python",
   "name": "python",
   "nbconvert_exporter": "python",
   "pygments_lexer": "ipython3",
   "version": "3.9.16"
  }
 },
 "nbformat": 4,
 "nbformat_minor": 5
}
